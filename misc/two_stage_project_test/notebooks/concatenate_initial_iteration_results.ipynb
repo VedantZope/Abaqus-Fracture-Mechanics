{
 "cells": [
  {
   "cell_type": "code",
   "execution_count": 1,
   "metadata": {},
   "outputs": [
    {
     "name": "stdout",
     "output_type": "stream",
     "text": [
      "The current directory is: \n",
      "c:\\Users\\springnuance\\Desktop\\Abaqus-Macromechanics-Project\\notebooks\n",
      "Moving up to the parent directory\n",
      "c:\\Users\\springnuance\\Desktop\\Abaqus-Macromechanics-Project\n"
     ]
    }
   ],
   "source": [
    "import pandas as pd\n",
    "import numpy as np\n",
    "from sklearn.metrics import r2_score\n",
    "import matplotlib.pyplot as plt\n",
    "from matplotlib.pyplot import figure\n",
    "\n",
    "import os\n",
    "from math import * \n",
    "os.getcwd()\n",
    "print(\"The current directory is: \")\n",
    "print(os.getcwd())\n",
    "path_parent = os.path.dirname(os.getcwd())\n",
    "os.chdir(path_parent)\n",
    "print(\"Moving up to the parent directory\")\n",
    "print(os.getcwd())"
   ]
  },
  {
   "cell_type": "code",
   "execution_count": 2,
   "metadata": {},
   "outputs": [
    {
     "name": "stdout",
     "output_type": "stream",
     "text": [
      "\n",
      "Welcome to the Abaqus parameter calibration project\n",
      "\n",
      "\n",
      "The configurations you have chosen: \n",
      "\n",
      "+-----------------------------+-------------+\n",
      "|        Global Configs       | User choice |\n",
      "+-----------------------------+-------------+\n",
      "|    Number of initial sims   |      30     |\n",
      "|     Initial sims spacing    |     1000    |\n",
      "|      Optimize strategy      |     SOO     |\n",
      "|           Material          | DP1000_room |\n",
      "|        Hardening law        |    Swift    |\n",
      "|           Geometry          |    NDBR50   |\n",
      "|         Curve index         |      2      |\n",
      "|        Optimizer name       |      BO     |\n",
      "|  Yielding deviation percent |      1      |\n",
      "| Hardening deviation percent |      2      |\n",
      "+-----------------------------+-------------+\n",
      "\n",
      "Generating necessary directories\n",
      "\n",
      "The path to your main project folder is\n",
      "\n",
      "c:\\Users\\springnuance\\Desktop\\Abaqus-Macromechanics-Project\n",
      "\n"
     ]
    }
   ],
   "source": [
    "from stage0_configs import *\n",
    "from modules.helper import *\n",
    "info = main_config()"
   ]
  },
  {
   "cell_type": "code",
   "execution_count": 4,
   "metadata": {},
   "outputs": [
    {
     "name": "stdout",
     "output_type": "stream",
     "text": [
      "30\n",
      "30\n"
     ]
    }
   ],
   "source": [
    "resultPath = info['resultPath']\n",
    "FD_Curves_initial = np.load(f\"{resultPath}/initial/common/FD_Curves.npy\", allow_pickle=True).tolist()\n",
    "flowCurves_initial = np.load(f\"{resultPath}/initial/common/flowCurves.npy\", allow_pickle=True).tolist()\n",
    "#FD_Curves_iteration = np.load(f\"{resultPath}/iteration/common/FD_Curves.npy\", allow_pickle=True).tolist()\n",
    "#flowCurves_iteration = np.load(f\"{resultPath}/iteration/common/flowCurves.npy\", allow_pickle=True).tolist()\n",
    "\n",
    "print(len(FD_Curves_initial))\n",
    "print(len(flowCurves_initial))\n",
    "# numberOfIterationSimsConcatenatedToInitialSims = 10\n",
    "# i = 0\n",
    "# # Updating the first 10 iteration sims to the initial sims\n",
    "# for params, FD_Curve in FD_Curves_iteration.items():\n",
    "#     FD_Curves_initial[params] = FD_Curve\n",
    "#     i += 1\n",
    "#     if i == numberOfIterationSimsConcatenatedToInitialSims:\n",
    "#         break\n",
    "\n",
    "# i = 0\n",
    "# # Updating the first 10 iteration sims to the initial sims\n",
    "# for params, flowCurve in flowCurves_iteration.items():\n",
    "#     flowCurves_initial[params] = flowCurve\n",
    "#     i += 1\n",
    "#     if i == numberOfIterationSimsConcatenatedToInitialSims:\n",
    "#         break\n",
    "# print(len(FD_Curves_initial))\n",
    "# print(len(flowCurves_initial))\n",
    "# #print(FD_Curves_initial)\n",
    "\n",
    "# np.save(f\"{resultPath}/initial/common/FD_Curves.npy\", FD_Curves_initial)\n",
    "# np.save(f\"{resultPath}/initial/common/flowCurves.npy\", flowCurves_initial)"
   ]
  }
 ],
 "metadata": {
  "kernelspec": {
   "display_name": "Python 3",
   "language": "python",
   "name": "python3"
  },
  "language_info": {
   "codemirror_mode": {
    "name": "ipython",
    "version": 3
   },
   "file_extension": ".py",
   "mimetype": "text/x-python",
   "name": "python",
   "nbconvert_exporter": "python",
   "pygments_lexer": "ipython3",
   "version": "3.11.3"
  },
  "orig_nbformat": 4
 },
 "nbformat": 4,
 "nbformat_minor": 2
}
