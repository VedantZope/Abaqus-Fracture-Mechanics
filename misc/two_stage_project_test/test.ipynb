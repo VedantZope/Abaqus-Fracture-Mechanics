{
 "cells": [
  {
   "cell_type": "code",
   "execution_count": 3,
   "metadata": {},
   "outputs": [
    {
     "name": "stdout",
     "output_type": "stream",
     "text": [
      "0.00018\n",
      "{'a': 1, 'b': 2, 'c': 3, 'd': 4}\n",
      "4\n"
     ]
    }
   ],
   "source": [
    "print(round(1.8 * 1e-4, 5))\n",
    "\n",
    "\n",
    "\n",
    "dict1 = {'a': 1, 'b':2}\n",
    "dict2 = {'c': 3, 'd':4}\n",
    "dict1.update(dict2)\n",
    "\n",
    "print(dict1)\n",
    "print(len(dict1))"
   ]
  }
 ],
 "metadata": {
  "kernelspec": {
   "display_name": "Python 3",
   "language": "python",
   "name": "python3"
  },
  "language_info": {
   "codemirror_mode": {
    "name": "ipython",
    "version": 3
   },
   "file_extension": ".py",
   "mimetype": "text/x-python",
   "name": "python",
   "nbconvert_exporter": "python",
   "pygments_lexer": "ipython3",
   "version": "3.11.3"
  },
  "orig_nbformat": 4
 },
 "nbformat": 4,
 "nbformat_minor": 2
}
