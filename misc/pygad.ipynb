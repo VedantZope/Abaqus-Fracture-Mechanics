{
 "cells": [
  {
   "cell_type": "code",
   "execution_count": 2,
   "metadata": {},
   "outputs": [
    {
     "name": "stdout",
     "output_type": "stream",
     "text": [
      "Requirement already satisfied: pygad in c:\\users\\springnuance\\appdata\\local\\programs\\python\\python311\\lib\\site-packages (3.0.1)\n",
      "Requirement already satisfied: cloudpickle in c:\\users\\springnuance\\appdata\\local\\programs\\python\\python311\\lib\\site-packages (from pygad) (2.2.1)\n",
      "Requirement already satisfied: matplotlib in c:\\users\\springnuance\\appdata\\local\\programs\\python\\python311\\lib\\site-packages (from pygad) (3.7.1)\n",
      "Requirement already satisfied: numpy in c:\\users\\springnuance\\appdata\\local\\programs\\python\\python311\\lib\\site-packages (from pygad) (1.23.5)\n",
      "Requirement already satisfied: contourpy>=1.0.1 in c:\\users\\springnuance\\appdata\\local\\programs\\python\\python311\\lib\\site-packages (from matplotlib->pygad) (1.0.7)\n",
      "Requirement already satisfied: cycler>=0.10 in c:\\users\\springnuance\\appdata\\local\\programs\\python\\python311\\lib\\site-packages (from matplotlib->pygad) (0.11.0)\n",
      "Requirement already satisfied: fonttools>=4.22.0 in c:\\users\\springnuance\\appdata\\local\\programs\\python\\python311\\lib\\site-packages (from matplotlib->pygad) (4.39.4)\n",
      "Requirement already satisfied: kiwisolver>=1.0.1 in c:\\users\\springnuance\\appdata\\local\\programs\\python\\python311\\lib\\site-packages (from matplotlib->pygad) (1.4.4)\n",
      "Requirement already satisfied: packaging>=20.0 in c:\\users\\springnuance\\appdata\\local\\programs\\python\\python311\\lib\\site-packages (from matplotlib->pygad) (23.1)\n",
      "Requirement already satisfied: pillow>=6.2.0 in c:\\users\\springnuance\\appdata\\local\\programs\\python\\python311\\lib\\site-packages (from matplotlib->pygad) (9.5.0)\n",
      "Requirement already satisfied: pyparsing>=2.3.1 in c:\\users\\springnuance\\appdata\\local\\programs\\python\\python311\\lib\\site-packages (from matplotlib->pygad) (3.0.9)\n",
      "Requirement already satisfied: python-dateutil>=2.7 in c:\\users\\springnuance\\appdata\\local\\programs\\python\\python311\\lib\\site-packages (from matplotlib->pygad) (2.8.2)\n",
      "Requirement already satisfied: six>=1.5 in c:\\users\\springnuance\\appdata\\local\\programs\\python\\python311\\lib\\site-packages (from python-dateutil>=2.7->matplotlib->pygad) (1.16.0)\n",
      "Note: you may need to restart the kernel to use updated packages.\n"
     ]
    },
    {
     "name": "stderr",
     "output_type": "stream",
     "text": [
      "\n",
      "[notice] A new release of pip available: 22.3.1 -> 23.1.2\n",
      "[notice] To update, run: python.exe -m pip install --upgrade pip\n"
     ]
    }
   ],
   "source": [
    "%pip install pygad"
   ]
  },
  {
   "cell_type": "code",
   "execution_count": 10,
   "metadata": {},
   "outputs": [],
   "source": [
    "import pandas as pd\n",
    "import numpy as np\n",
    "import matplotlib.pyplot as plt\n",
    "import pygad"
   ]
  },
  {
   "attachments": {},
   "cell_type": "markdown",
   "metadata": {},
   "source": [
    "### Prepare target flow curve"
   ]
  },
  {
   "cell_type": "code",
   "execution_count": 11,
   "metadata": {},
   "outputs": [],
   "source": [
    "# Read the CSV file into a DataFrame\n",
    "df = pd.read_csv('abaqus simulation F-D fitting/Flowcurve_RT.csv')\n",
    "# print(df)\n",
    "# Extract the true strain and average true stress columns\n",
    "trueStrain = df['True strain']\n",
    "trueStress = df['Avg.True stress']"
   ]
  },
  {
   "cell_type": "code",
   "execution_count": 25,
   "metadata": {},
   "outputs": [],
   "source": [
    "# Discrete searching space\n",
    "param_bounds = {\n",
    "    \"c1\": {'low': 500, 'high': 2000, 'step': 0.1},  \n",
    "    \"c2\": {'low': 0.1, 'high': 10, 'step': 0.001},    \n",
    "    \"c3\": {'low': 0.01, 'high': 0.1, 'step': 0.0001}  \n",
    "}\n",
    "\n",
    "# Continuous searching space\n",
    "param_bounds = {\n",
    "    \"c1\": {'low': 500, 'high': 2000},  \n",
    "    \"c2\": {'low': 0.1, 'high': 10},    \n",
    "    \"c3\": {'low': 0.01, 'high': 0.1}  \n",
    "}\n",
    "\n",
    "# Swift Laws\n",
    "def swift_law(c1,c2,c3,strain):\n",
    "    stress=c1*(c2+strain)**c3 #3 parameter \n",
    "    return(stress)\n",
    "\n",
    "# Note: GA in PyGAD tries to maximize, so you should use the inverse of the loss function.\n",
    "def lossFunction(GA_instance, solution, solution_idx):\n",
    "    c1 = solution[0]\n",
    "    c2 = solution[1]\n",
    "    c3 = solution[2]\n",
    "    simStress = swift_law(c1,c2,c3,trueStrain)\n",
    "    # RMSE loss\n",
    "    fitness = np.sqrt(np.mean((simStress - trueStress)**2))\n",
    "    loss = 1.0 / fitness\n",
    "    return loss"
   ]
  },
  {
   "cell_type": "code",
   "execution_count": 26,
   "metadata": {},
   "outputs": [],
   "source": [
    "class GA():\n",
    "\n",
    "    ##################################\n",
    "    # OPTIMIZER CLASS INITIALIZATION #\n",
    "    ##################################\n",
    "\n",
    "    def __init__(self):    \n",
    "        #############################\n",
    "        # Optimizer hyperparameters #\n",
    "        #############################\n",
    "\n",
    "        # You can modify these settings. \n",
    "        # Documentations:\n",
    "        # https://pygad.readthedocs.io/en/latest/README_pygad_ReadTheDocs.html#pygad-ga-class\n",
    "        self.num_generations=100\n",
    "        self.num_parents_mating=200\n",
    "        self.sol_per_pop=1000\n",
    "        self.allow_duplicate_genes=False\n",
    "        self.parent_selection_type=\"sss\"\n",
    "        self.crossover_type=\"single_point\"\n",
    "        self.mutation_type=\"random\"\n",
    "        self.mutation_num_genes=1\n",
    "        self.keep_elitism=200\n",
    "        self.stop_criteria=[\"reach_0.5\", \"saturate_15\"]\n",
    "\n",
    "    ##########################\n",
    "    # OPTIMIZATION FUNCTIONS #\n",
    "    ##########################\n",
    "\n",
    "    def initializeOptimizer(self, lossFunction, param_bounds):\n",
    "        self.param_bounds = param_bounds\n",
    "        GA_bounds = []\n",
    "        for param in self.param_bounds:\n",
    "            GA_bounds.append(param_bounds[param])\n",
    "        # print(GA_bounds)\n",
    "        num_genes = len(GA_bounds)        \n",
    "        ga_instance = pygad.GA(fitness_func=lossFunction,\n",
    "                            num_generations=self.num_generations, \n",
    "                            num_parents_mating=self.num_parents_mating, \n",
    "                            sol_per_pop=self.sol_per_pop, \n",
    "                            num_genes=num_genes,\n",
    "                            gene_space=GA_bounds,\n",
    "                            allow_duplicate_genes=self.allow_duplicate_genes,\n",
    "                            parent_selection_type=self.parent_selection_type,\n",
    "                            crossover_type=self.crossover_type,\n",
    "                            mutation_type=self.mutation_type,\n",
    "                            keep_elitism=self.keep_elitism,\n",
    "                            mutation_num_genes=self.mutation_num_genes,\n",
    "                            stop_criteria=self.stop_criteria,\n",
    "                            parallel_processing=[\"thread\", 5],\n",
    "                            )\n",
    "        self.optimizer = ga_instance\n",
    "\n",
    "    def run(self):\n",
    "        self.optimizer.run()\n",
    "\n",
    "    def outputResult(self):\n",
    "        best_solution, best_solution_loss, best_solution_index = self.optimizer.best_solution()\n",
    "        solution_dict = {}\n",
    "        for i, param in enumerate(self.param_bounds):\n",
    "            solution_dict[param] = best_solution[i]        \n",
    "        solution_tuple = tuple(solution_dict.items())\n",
    "        return solution_dict, solution_tuple, best_solution_loss"
   ]
  },
  {
   "cell_type": "code",
   "execution_count": 27,
   "metadata": {},
   "outputs": [
    {
     "name": "stdout",
     "output_type": "stream",
     "text": [
      "[{'low': 500, 'high': 2000}, {'low': 0.1, 'high': 10}, {'low': 0.01, 'high': 0.1}]\n",
      "c1: 1190.8481543758592\n",
      "c2: 0.10044562043570893\n",
      "c3: 0.09983790950185621\n"
     ]
    }
   ],
   "source": [
    "GA_instance = GA()\n",
    "GA_instance.initializeOptimizer(lossFunction, param_bounds)\n",
    "GA_instance.run()\n",
    "solution_dict, solution_tuple, best_solution_loss = GA_instance.outputResult()\n",
    "\n",
    "for param in solution_dict:\n",
    "    print(f\"{param}: {solution_dict[param]}\")\n",
    "\n",
    "print(f\"Best solution loss = {best_solution_loss:.4f}\")"
   ]
  }
 ],
 "metadata": {
  "kernelspec": {
   "display_name": "Python 3",
   "language": "python",
   "name": "python3"
  },
  "language_info": {
   "codemirror_mode": {
    "name": "ipython",
    "version": 3
   },
   "file_extension": ".py",
   "mimetype": "text/x-python",
   "name": "python",
   "nbconvert_exporter": "python",
   "pygments_lexer": "ipython3",
   "version": "3.11.3"
  },
  "orig_nbformat": 4
 },
 "nbformat": 4,
 "nbformat_minor": 2
}
