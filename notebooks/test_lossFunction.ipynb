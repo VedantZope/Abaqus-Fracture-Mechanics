{
 "cells": [
  {
   "cell_type": "code",
   "execution_count": 6,
   "metadata": {},
   "outputs": [
    {
     "name": "stdout",
     "output_type": "stream",
     "text": [
      "The current directory is: \n",
      "\\\\home.org.aalto.fi\\zopev1\\data\\Desktop\\Abaqus-Macromechanics-Project\n",
      "Moving up to the parent directory\n",
      "\\\\home.org.aalto.fi\\zopev1\\data\\Desktop\n"
     ]
    }
   ],
   "source": [
    "import pandas as pd\n",
    "import numpy as np\n",
    "from sklearn.metrics import r2_score\n",
    "import matplotlib.pyplot as plt\n",
    "from matplotlib.pyplot import figure\n",
    "\n",
    "import os\n",
    "from math import * \n",
    "os.getcwd()\n",
    "print(\"The current directory is: \")\n",
    "print(os.getcwd())\n",
    "path_parent = os.path.dirname(os.getcwd())\n",
    "os.chdir(path_parent)\n",
    "print(\"Moving up to the parent directory\")\n",
    "print(os.getcwd())"
   ]
  },
  {
   "cell_type": "code",
   "execution_count": 7,
   "metadata": {},
   "outputs": [
    {
     "ename": "FileNotFoundError",
     "evalue": "[Errno 2] No such file or directory: 'configs/global_config.xlsx'",
     "output_type": "error",
     "traceback": [
      "\u001b[1;31m---------------------------------------------------------------------------\u001b[0m",
      "\u001b[1;31mFileNotFoundError\u001b[0m                         Traceback (most recent call last)",
      "Cell \u001b[1;32mIn[7], line 3\u001b[0m\n\u001b[0;32m      1\u001b[0m \u001b[39mfrom\u001b[39;00m \u001b[39mstage0_configs\u001b[39;00m \u001b[39mimport\u001b[39;00m \u001b[39m*\u001b[39m\n\u001b[0;32m      2\u001b[0m \u001b[39mfrom\u001b[39;00m \u001b[39mmodules\u001b[39;00m\u001b[39m.\u001b[39;00m\u001b[39mhelper\u001b[39;00m \u001b[39mimport\u001b[39;00m \u001b[39m*\u001b[39m\n\u001b[1;32m----> 3\u001b[0m info \u001b[39m=\u001b[39m main_config()\n",
      "File \u001b[1;32m\\\\home.org.aalto.fi\\zopev1\\data\\Desktop\\Abaqus-Macromechanics-Project\\stage0_configs.py:29\u001b[0m, in \u001b[0;36mmain_config\u001b[1;34m()\u001b[0m\n\u001b[0;32m     23\u001b[0m \u001b[39mdef\u001b[39;00m \u001b[39mmain_config\u001b[39m():\n\u001b[0;32m     24\u001b[0m \n\u001b[0;32m     25\u001b[0m     \u001b[39m#########################\u001b[39;00m\n\u001b[0;32m     26\u001b[0m     \u001b[39m# Global configurations #\u001b[39;00m\n\u001b[0;32m     27\u001b[0m     \u001b[39m#########################\u001b[39;00m\n\u001b[1;32m---> 29\u001b[0m     globalConfig \u001b[39m=\u001b[39m pd\u001b[39m.\u001b[39;49mread_excel(\u001b[39m\"\u001b[39;49m\u001b[39mconfigs/global_config.xlsx\u001b[39;49m\u001b[39m\"\u001b[39;49m, nrows\u001b[39m=\u001b[39;49m\u001b[39m1\u001b[39;49m, engine\u001b[39m=\u001b[39;49m\u001b[39m\"\u001b[39;49m\u001b[39mopenpyxl\u001b[39;49m\u001b[39m\"\u001b[39;49m)\n\u001b[0;32m     30\u001b[0m     globalConfig \u001b[39m=\u001b[39m globalConfig\u001b[39m.\u001b[39mT\u001b[39m.\u001b[39mto_dict()[\u001b[39m0\u001b[39m]\n\u001b[0;32m     31\u001b[0m     optimizeStrategy \u001b[39m=\u001b[39m globalConfig[\u001b[39m\"\u001b[39m\u001b[39moptimizeStrategy\u001b[39m\u001b[39m\"\u001b[39m]\n",
      "File \u001b[1;32mc:\\Users\\zopev1\\AppData\\Local\\Programs\\Python\\Python311\\Lib\\site-packages\\pandas\\io\\excel\\_base.py:478\u001b[0m, in \u001b[0;36mread_excel\u001b[1;34m(io, sheet_name, header, names, index_col, usecols, dtype, engine, converters, true_values, false_values, skiprows, nrows, na_values, keep_default_na, na_filter, verbose, parse_dates, date_parser, date_format, thousands, decimal, comment, skipfooter, storage_options, dtype_backend)\u001b[0m\n\u001b[0;32m    476\u001b[0m \u001b[39mif\u001b[39;00m \u001b[39mnot\u001b[39;00m \u001b[39misinstance\u001b[39m(io, ExcelFile):\n\u001b[0;32m    477\u001b[0m     should_close \u001b[39m=\u001b[39m \u001b[39mTrue\u001b[39;00m\n\u001b[1;32m--> 478\u001b[0m     io \u001b[39m=\u001b[39m ExcelFile(io, storage_options\u001b[39m=\u001b[39;49mstorage_options, engine\u001b[39m=\u001b[39;49mengine)\n\u001b[0;32m    479\u001b[0m \u001b[39melif\u001b[39;00m engine \u001b[39mand\u001b[39;00m engine \u001b[39m!=\u001b[39m io\u001b[39m.\u001b[39mengine:\n\u001b[0;32m    480\u001b[0m     \u001b[39mraise\u001b[39;00m \u001b[39mValueError\u001b[39;00m(\n\u001b[0;32m    481\u001b[0m         \u001b[39m\"\u001b[39m\u001b[39mEngine should not be specified when passing \u001b[39m\u001b[39m\"\u001b[39m\n\u001b[0;32m    482\u001b[0m         \u001b[39m\"\u001b[39m\u001b[39man ExcelFile - ExcelFile already has the engine set\u001b[39m\u001b[39m\"\u001b[39m\n\u001b[0;32m    483\u001b[0m     )\n",
      "File \u001b[1;32mc:\\Users\\zopev1\\AppData\\Local\\Programs\\Python\\Python311\\Lib\\site-packages\\pandas\\io\\excel\\_base.py:1513\u001b[0m, in \u001b[0;36mExcelFile.__init__\u001b[1;34m(self, path_or_buffer, engine, storage_options)\u001b[0m\n\u001b[0;32m   1510\u001b[0m \u001b[39mself\u001b[39m\u001b[39m.\u001b[39mengine \u001b[39m=\u001b[39m engine\n\u001b[0;32m   1511\u001b[0m \u001b[39mself\u001b[39m\u001b[39m.\u001b[39mstorage_options \u001b[39m=\u001b[39m storage_options\n\u001b[1;32m-> 1513\u001b[0m \u001b[39mself\u001b[39m\u001b[39m.\u001b[39m_reader \u001b[39m=\u001b[39m \u001b[39mself\u001b[39;49m\u001b[39m.\u001b[39;49m_engines[engine](\u001b[39mself\u001b[39;49m\u001b[39m.\u001b[39;49m_io, storage_options\u001b[39m=\u001b[39;49mstorage_options)\n",
      "File \u001b[1;32mc:\\Users\\zopev1\\AppData\\Local\\Programs\\Python\\Python311\\Lib\\site-packages\\pandas\\io\\excel\\_openpyxl.py:549\u001b[0m, in \u001b[0;36mOpenpyxlReader.__init__\u001b[1;34m(self, filepath_or_buffer, storage_options)\u001b[0m\n\u001b[0;32m    539\u001b[0m \u001b[39m\u001b[39m\u001b[39m\"\"\"\u001b[39;00m\n\u001b[0;32m    540\u001b[0m \u001b[39mReader using openpyxl engine.\u001b[39;00m\n\u001b[0;32m    541\u001b[0m \n\u001b[1;32m   (...)\u001b[0m\n\u001b[0;32m    546\u001b[0m \u001b[39m{storage_options}\u001b[39;00m\n\u001b[0;32m    547\u001b[0m \u001b[39m\"\"\"\u001b[39;00m\n\u001b[0;32m    548\u001b[0m import_optional_dependency(\u001b[39m\"\u001b[39m\u001b[39mopenpyxl\u001b[39m\u001b[39m\"\u001b[39m)\n\u001b[1;32m--> 549\u001b[0m \u001b[39msuper\u001b[39;49m()\u001b[39m.\u001b[39;49m\u001b[39m__init__\u001b[39;49m(filepath_or_buffer, storage_options\u001b[39m=\u001b[39;49mstorage_options)\n",
      "File \u001b[1;32mc:\\Users\\zopev1\\AppData\\Local\\Programs\\Python\\Python311\\Lib\\site-packages\\pandas\\io\\excel\\_base.py:530\u001b[0m, in \u001b[0;36mBaseExcelReader.__init__\u001b[1;34m(self, filepath_or_buffer, storage_options)\u001b[0m\n\u001b[0;32m    526\u001b[0m \u001b[39mself\u001b[39m\u001b[39m.\u001b[39mhandles \u001b[39m=\u001b[39m IOHandles(\n\u001b[0;32m    527\u001b[0m     handle\u001b[39m=\u001b[39mfilepath_or_buffer, compression\u001b[39m=\u001b[39m{\u001b[39m\"\u001b[39m\u001b[39mmethod\u001b[39m\u001b[39m\"\u001b[39m: \u001b[39mNone\u001b[39;00m}\n\u001b[0;32m    528\u001b[0m )\n\u001b[0;32m    529\u001b[0m \u001b[39mif\u001b[39;00m \u001b[39mnot\u001b[39;00m \u001b[39misinstance\u001b[39m(filepath_or_buffer, (ExcelFile, \u001b[39mself\u001b[39m\u001b[39m.\u001b[39m_workbook_class)):\n\u001b[1;32m--> 530\u001b[0m     \u001b[39mself\u001b[39m\u001b[39m.\u001b[39mhandles \u001b[39m=\u001b[39m get_handle(\n\u001b[0;32m    531\u001b[0m         filepath_or_buffer, \u001b[39m\"\u001b[39;49m\u001b[39mrb\u001b[39;49m\u001b[39m\"\u001b[39;49m, storage_options\u001b[39m=\u001b[39;49mstorage_options, is_text\u001b[39m=\u001b[39;49m\u001b[39mFalse\u001b[39;49;00m\n\u001b[0;32m    532\u001b[0m     )\n\u001b[0;32m    534\u001b[0m \u001b[39mif\u001b[39;00m \u001b[39misinstance\u001b[39m(\u001b[39mself\u001b[39m\u001b[39m.\u001b[39mhandles\u001b[39m.\u001b[39mhandle, \u001b[39mself\u001b[39m\u001b[39m.\u001b[39m_workbook_class):\n\u001b[0;32m    535\u001b[0m     \u001b[39mself\u001b[39m\u001b[39m.\u001b[39mbook \u001b[39m=\u001b[39m \u001b[39mself\u001b[39m\u001b[39m.\u001b[39mhandles\u001b[39m.\u001b[39mhandle\n",
      "File \u001b[1;32mc:\\Users\\zopev1\\AppData\\Local\\Programs\\Python\\Python311\\Lib\\site-packages\\pandas\\io\\common.py:868\u001b[0m, in \u001b[0;36mget_handle\u001b[1;34m(path_or_buf, mode, encoding, compression, memory_map, is_text, errors, storage_options)\u001b[0m\n\u001b[0;32m    859\u001b[0m         handle \u001b[39m=\u001b[39m \u001b[39mopen\u001b[39m(\n\u001b[0;32m    860\u001b[0m             handle,\n\u001b[0;32m    861\u001b[0m             ioargs\u001b[39m.\u001b[39mmode,\n\u001b[1;32m   (...)\u001b[0m\n\u001b[0;32m    864\u001b[0m             newline\u001b[39m=\u001b[39m\u001b[39m\"\u001b[39m\u001b[39m\"\u001b[39m,\n\u001b[0;32m    865\u001b[0m         )\n\u001b[0;32m    866\u001b[0m     \u001b[39melse\u001b[39;00m:\n\u001b[0;32m    867\u001b[0m         \u001b[39m# Binary mode\u001b[39;00m\n\u001b[1;32m--> 868\u001b[0m         handle \u001b[39m=\u001b[39m \u001b[39mopen\u001b[39;49m(handle, ioargs\u001b[39m.\u001b[39;49mmode)\n\u001b[0;32m    869\u001b[0m     handles\u001b[39m.\u001b[39mappend(handle)\n\u001b[0;32m    871\u001b[0m \u001b[39m# Convert BytesIO or file objects passed with an encoding\u001b[39;00m\n",
      "\u001b[1;31mFileNotFoundError\u001b[0m: [Errno 2] No such file or directory: 'configs/global_config.xlsx'"
     ]
    }
   ],
   "source": [
    "from stage0_configs import *\n",
    "from modules.helper import *\n",
    "info = main_config()"
   ]
  },
  {
   "cell_type": "code",
   "execution_count": 9,
   "metadata": {},
   "outputs": [
    {
     "ename": "FileNotFoundError",
     "evalue": "[Errno 2] No such file or directory: 'MOO_targets/DP1000_400C_SwiftVoce_curve1/NDBR50/FD_Curve.csv'",
     "output_type": "error",
     "traceback": [
      "\u001b[1;31m---------------------------------------------------------------------------\u001b[0m",
      "\u001b[1;31mFileNotFoundError\u001b[0m                         Traceback (most recent call last)",
      "Cell \u001b[1;32mIn[9], line 4\u001b[0m\n\u001b[0;32m      2\u001b[0m targetPath \u001b[39m=\u001b[39m info[\u001b[39m'\u001b[39m\u001b[39mtargetPath\u001b[39m\u001b[39m'\u001b[39m]\n\u001b[0;32m      3\u001b[0m \u001b[39m# Load csv file\u001b[39;00m\n\u001b[1;32m----> 4\u001b[0m target \u001b[39m=\u001b[39m pd\u001b[39m.\u001b[39;49mread_csv(\u001b[39mf\u001b[39;49m\u001b[39m\"\u001b[39;49m\u001b[39m{\u001b[39;49;00mtargetPath\u001b[39m}\u001b[39;49;00m\u001b[39m/NDBR50/FD_Curve.csv\u001b[39;49m\u001b[39m\"\u001b[39;49m)\n\u001b[0;32m      5\u001b[0m expForce \u001b[39m=\u001b[39m target[\u001b[39m'\u001b[39m\u001b[39mforce/N\u001b[39m\u001b[39m'\u001b[39m]\u001b[39m.\u001b[39mto_numpy()\n\u001b[0;32m      6\u001b[0m expDisplacement \u001b[39m=\u001b[39m target[\u001b[39m'\u001b[39m\u001b[39mdisplacement/mm\u001b[39m\u001b[39m'\u001b[39m]\u001b[39m.\u001b[39mto_numpy() \n",
      "File \u001b[1;32mc:\\Users\\zopev1\\AppData\\Local\\Programs\\Python\\Python311\\Lib\\site-packages\\pandas\\io\\parsers\\readers.py:912\u001b[0m, in \u001b[0;36mread_csv\u001b[1;34m(filepath_or_buffer, sep, delimiter, header, names, index_col, usecols, dtype, engine, converters, true_values, false_values, skipinitialspace, skiprows, skipfooter, nrows, na_values, keep_default_na, na_filter, verbose, skip_blank_lines, parse_dates, infer_datetime_format, keep_date_col, date_parser, date_format, dayfirst, cache_dates, iterator, chunksize, compression, thousands, decimal, lineterminator, quotechar, quoting, doublequote, escapechar, comment, encoding, encoding_errors, dialect, on_bad_lines, delim_whitespace, low_memory, memory_map, float_precision, storage_options, dtype_backend)\u001b[0m\n\u001b[0;32m    899\u001b[0m kwds_defaults \u001b[39m=\u001b[39m _refine_defaults_read(\n\u001b[0;32m    900\u001b[0m     dialect,\n\u001b[0;32m    901\u001b[0m     delimiter,\n\u001b[1;32m   (...)\u001b[0m\n\u001b[0;32m    908\u001b[0m     dtype_backend\u001b[39m=\u001b[39mdtype_backend,\n\u001b[0;32m    909\u001b[0m )\n\u001b[0;32m    910\u001b[0m kwds\u001b[39m.\u001b[39mupdate(kwds_defaults)\n\u001b[1;32m--> 912\u001b[0m \u001b[39mreturn\u001b[39;00m _read(filepath_or_buffer, kwds)\n",
      "File \u001b[1;32mc:\\Users\\zopev1\\AppData\\Local\\Programs\\Python\\Python311\\Lib\\site-packages\\pandas\\io\\parsers\\readers.py:577\u001b[0m, in \u001b[0;36m_read\u001b[1;34m(filepath_or_buffer, kwds)\u001b[0m\n\u001b[0;32m    574\u001b[0m _validate_names(kwds\u001b[39m.\u001b[39mget(\u001b[39m\"\u001b[39m\u001b[39mnames\u001b[39m\u001b[39m\"\u001b[39m, \u001b[39mNone\u001b[39;00m))\n\u001b[0;32m    576\u001b[0m \u001b[39m# Create the parser.\u001b[39;00m\n\u001b[1;32m--> 577\u001b[0m parser \u001b[39m=\u001b[39m TextFileReader(filepath_or_buffer, \u001b[39m*\u001b[39;49m\u001b[39m*\u001b[39;49mkwds)\n\u001b[0;32m    579\u001b[0m \u001b[39mif\u001b[39;00m chunksize \u001b[39mor\u001b[39;00m iterator:\n\u001b[0;32m    580\u001b[0m     \u001b[39mreturn\u001b[39;00m parser\n",
      "File \u001b[1;32mc:\\Users\\zopev1\\AppData\\Local\\Programs\\Python\\Python311\\Lib\\site-packages\\pandas\\io\\parsers\\readers.py:1407\u001b[0m, in \u001b[0;36mTextFileReader.__init__\u001b[1;34m(self, f, engine, **kwds)\u001b[0m\n\u001b[0;32m   1404\u001b[0m     \u001b[39mself\u001b[39m\u001b[39m.\u001b[39moptions[\u001b[39m\"\u001b[39m\u001b[39mhas_index_names\u001b[39m\u001b[39m\"\u001b[39m] \u001b[39m=\u001b[39m kwds[\u001b[39m\"\u001b[39m\u001b[39mhas_index_names\u001b[39m\u001b[39m\"\u001b[39m]\n\u001b[0;32m   1406\u001b[0m \u001b[39mself\u001b[39m\u001b[39m.\u001b[39mhandles: IOHandles \u001b[39m|\u001b[39m \u001b[39mNone\u001b[39;00m \u001b[39m=\u001b[39m \u001b[39mNone\u001b[39;00m\n\u001b[1;32m-> 1407\u001b[0m \u001b[39mself\u001b[39m\u001b[39m.\u001b[39m_engine \u001b[39m=\u001b[39m \u001b[39mself\u001b[39;49m\u001b[39m.\u001b[39;49m_make_engine(f, \u001b[39mself\u001b[39;49m\u001b[39m.\u001b[39;49mengine)\n",
      "File \u001b[1;32mc:\\Users\\zopev1\\AppData\\Local\\Programs\\Python\\Python311\\Lib\\site-packages\\pandas\\io\\parsers\\readers.py:1661\u001b[0m, in \u001b[0;36mTextFileReader._make_engine\u001b[1;34m(self, f, engine)\u001b[0m\n\u001b[0;32m   1659\u001b[0m     \u001b[39mif\u001b[39;00m \u001b[39m\"\u001b[39m\u001b[39mb\u001b[39m\u001b[39m\"\u001b[39m \u001b[39mnot\u001b[39;00m \u001b[39min\u001b[39;00m mode:\n\u001b[0;32m   1660\u001b[0m         mode \u001b[39m+\u001b[39m\u001b[39m=\u001b[39m \u001b[39m\"\u001b[39m\u001b[39mb\u001b[39m\u001b[39m\"\u001b[39m\n\u001b[1;32m-> 1661\u001b[0m \u001b[39mself\u001b[39m\u001b[39m.\u001b[39mhandles \u001b[39m=\u001b[39m get_handle(\n\u001b[0;32m   1662\u001b[0m     f,\n\u001b[0;32m   1663\u001b[0m     mode,\n\u001b[0;32m   1664\u001b[0m     encoding\u001b[39m=\u001b[39;49m\u001b[39mself\u001b[39;49m\u001b[39m.\u001b[39;49moptions\u001b[39m.\u001b[39;49mget(\u001b[39m\"\u001b[39;49m\u001b[39mencoding\u001b[39;49m\u001b[39m\"\u001b[39;49m, \u001b[39mNone\u001b[39;49;00m),\n\u001b[0;32m   1665\u001b[0m     compression\u001b[39m=\u001b[39;49m\u001b[39mself\u001b[39;49m\u001b[39m.\u001b[39;49moptions\u001b[39m.\u001b[39;49mget(\u001b[39m\"\u001b[39;49m\u001b[39mcompression\u001b[39;49m\u001b[39m\"\u001b[39;49m, \u001b[39mNone\u001b[39;49;00m),\n\u001b[0;32m   1666\u001b[0m     memory_map\u001b[39m=\u001b[39;49m\u001b[39mself\u001b[39;49m\u001b[39m.\u001b[39;49moptions\u001b[39m.\u001b[39;49mget(\u001b[39m\"\u001b[39;49m\u001b[39mmemory_map\u001b[39;49m\u001b[39m\"\u001b[39;49m, \u001b[39mFalse\u001b[39;49;00m),\n\u001b[0;32m   1667\u001b[0m     is_text\u001b[39m=\u001b[39;49mis_text,\n\u001b[0;32m   1668\u001b[0m     errors\u001b[39m=\u001b[39;49m\u001b[39mself\u001b[39;49m\u001b[39m.\u001b[39;49moptions\u001b[39m.\u001b[39;49mget(\u001b[39m\"\u001b[39;49m\u001b[39mencoding_errors\u001b[39;49m\u001b[39m\"\u001b[39;49m, \u001b[39m\"\u001b[39;49m\u001b[39mstrict\u001b[39;49m\u001b[39m\"\u001b[39;49m),\n\u001b[0;32m   1669\u001b[0m     storage_options\u001b[39m=\u001b[39;49m\u001b[39mself\u001b[39;49m\u001b[39m.\u001b[39;49moptions\u001b[39m.\u001b[39;49mget(\u001b[39m\"\u001b[39;49m\u001b[39mstorage_options\u001b[39;49m\u001b[39m\"\u001b[39;49m, \u001b[39mNone\u001b[39;49;00m),\n\u001b[0;32m   1670\u001b[0m )\n\u001b[0;32m   1671\u001b[0m \u001b[39massert\u001b[39;00m \u001b[39mself\u001b[39m\u001b[39m.\u001b[39mhandles \u001b[39mis\u001b[39;00m \u001b[39mnot\u001b[39;00m \u001b[39mNone\u001b[39;00m\n\u001b[0;32m   1672\u001b[0m f \u001b[39m=\u001b[39m \u001b[39mself\u001b[39m\u001b[39m.\u001b[39mhandles\u001b[39m.\u001b[39mhandle\n",
      "File \u001b[1;32mc:\\Users\\zopev1\\AppData\\Local\\Programs\\Python\\Python311\\Lib\\site-packages\\pandas\\io\\common.py:859\u001b[0m, in \u001b[0;36mget_handle\u001b[1;34m(path_or_buf, mode, encoding, compression, memory_map, is_text, errors, storage_options)\u001b[0m\n\u001b[0;32m    854\u001b[0m \u001b[39melif\u001b[39;00m \u001b[39misinstance\u001b[39m(handle, \u001b[39mstr\u001b[39m):\n\u001b[0;32m    855\u001b[0m     \u001b[39m# Check whether the filename is to be opened in binary mode.\u001b[39;00m\n\u001b[0;32m    856\u001b[0m     \u001b[39m# Binary mode does not support 'encoding' and 'newline'.\u001b[39;00m\n\u001b[0;32m    857\u001b[0m     \u001b[39mif\u001b[39;00m ioargs\u001b[39m.\u001b[39mencoding \u001b[39mand\u001b[39;00m \u001b[39m\"\u001b[39m\u001b[39mb\u001b[39m\u001b[39m\"\u001b[39m \u001b[39mnot\u001b[39;00m \u001b[39min\u001b[39;00m ioargs\u001b[39m.\u001b[39mmode:\n\u001b[0;32m    858\u001b[0m         \u001b[39m# Encoding\u001b[39;00m\n\u001b[1;32m--> 859\u001b[0m         handle \u001b[39m=\u001b[39m \u001b[39mopen\u001b[39;49m(\n\u001b[0;32m    860\u001b[0m             handle,\n\u001b[0;32m    861\u001b[0m             ioargs\u001b[39m.\u001b[39;49mmode,\n\u001b[0;32m    862\u001b[0m             encoding\u001b[39m=\u001b[39;49mioargs\u001b[39m.\u001b[39;49mencoding,\n\u001b[0;32m    863\u001b[0m             errors\u001b[39m=\u001b[39;49merrors,\n\u001b[0;32m    864\u001b[0m             newline\u001b[39m=\u001b[39;49m\u001b[39m\"\u001b[39;49m\u001b[39m\"\u001b[39;49m,\n\u001b[0;32m    865\u001b[0m         )\n\u001b[0;32m    866\u001b[0m     \u001b[39melse\u001b[39;00m:\n\u001b[0;32m    867\u001b[0m         \u001b[39m# Binary mode\u001b[39;00m\n\u001b[0;32m    868\u001b[0m         handle \u001b[39m=\u001b[39m \u001b[39mopen\u001b[39m(handle, ioargs\u001b[39m.\u001b[39mmode)\n",
      "\u001b[1;31mFileNotFoundError\u001b[0m: [Errno 2] No such file or directory: 'MOO_targets/DP1000_400C_SwiftVoce_curve1/NDBR50/FD_Curve.csv'"
     ]
    }
   ],
   "source": [
    "resultPath = info['resultPath']\n",
    "targetPath = info['targetPath']\n",
    "# Load csv file\n",
    "target = pd.read_csv(f\"{targetPath}/NDBR50/FD_Curve.csv\")\n",
    "expForce = target['force/N'].to_numpy()\n",
    "expDisplacement = target['displacement/mm'].to_numpy() \n",
    "#print(max(expDisplacement))\n",
    "targetCurve = {}\n",
    "targetCurve['displacement'] = expDisplacement\n",
    "targetCurve['force'] = expForce\n",
    "\n",
    "initial_original_FD_Curves = np.load(f\"{resultPath}/initial/common/FD_Curves.npy\", allow_pickle=True).tolist()\n",
    "initial_interpolated_FD_Curves = interpolating_FD_Curves(initial_original_FD_Curves, targetCurve)\n",
    "print(list(initial_interpolated_FD_Curves.values())[0]['displacement'])\n",
    "\n",
    "\n",
    "# print(maxDisp)\n",
    "# Plotting all FD curves\n",
    "figure(figsize=(8, 6), dpi=80)\n",
    "plt.plot(expDisplacement, expForce, label='Experiment')\n",
    "for param in initial_interpolated_FD_Curves:\n",
    "    plt.plot(initial_interpolated_FD_Curves[param]['displacement'], initial_interpolated_FD_Curves[param]['force'], color='orange', alpha=0.5,\n",
    "             #label=param\n",
    "             )\n",
    "plt.plot([],[], color='orange', alpha=0.5, label='Initial guesses')\n",
    "plt.title('Exp and Interpolated Sim Force-Displacement Curves')\n",
    "plt.xlabel('Displacement (mm)')\n",
    "plt.ylabel('Force (N)')\n",
    "plt.legend()\n",
    "\n",
    "# print(maxDisp)\n",
    "# Plotting all FD curves\n",
    "figure(figsize=(8, 6), dpi=80)\n",
    "plt.plot(expDisplacement, expForce, label='Experiment')\n",
    "for param in initial_original_FD_Curves:\n",
    "    plt.plot(initial_original_FD_Curves[param]['displacement'], initial_original_FD_Curves[param]['force'], color='orange', alpha=0.5,\n",
    "             #label=param\n",
    "             )\n",
    "plt.plot([],[], color='orange', alpha=0.5, label='Initial guesses')\n",
    "plt.title('Exp and Original Sim Force-Displacement Curves')\n",
    "plt.xlabel('Displacement (mm)')\n",
    "plt.ylabel('Force (N)')\n",
    "plt.legend()\n",
    "\n"
   ]
  },
  {
   "attachments": {},
   "cell_type": "markdown",
   "metadata": {},
   "source": [
    "### In total we have 20 initial guesses"
   ]
  },
  {
   "cell_type": "code",
   "execution_count": null,
   "metadata": {},
   "outputs": [
    {
     "data": {
      "text/plain": [
       "<matplotlib.legend.Legend at 0x1f4d0062c50>"
      ]
     },
     "execution_count": 4,
     "metadata": {},
     "output_type": "execute_result"
    },
    {
     "data": {
      "image/png": "[encoded data removed]",
      "text/plain": [
       "<Figure size 640x480 with 1 Axes>"
      ]
     },
     "metadata": {},
     "output_type": "display_data"
    }
   ],
   "source": [
    "# This is how you call the loss function\n",
    "# They are in N, not kN\n",
    "targetForce = targetCurve['force']\n",
    "targetDisplacement = targetCurve['displacement']\n",
    "# Datapoint at index i (0 to 19)\n",
    "i = 0\n",
    "interpolated_simForce = list(initial_interpolated_FD_Curves.values())[i]['force']\n",
    "\n",
    "# Plotting the FD curve\n",
    "figure(figsize=(8, 6), dpi=80)\n",
    "plt.plot(targetDisplacement, targetForce, label='Experiment')\n",
    "plt.plot(targetDisplacement, interpolated_simForce, label='Interpolated Sim')\n",
    "plt.legend()"
   ]
  },
  {
   "cell_type": "code",
   "execution_count": null,
   "metadata": {},
   "outputs": [],
   "source": [
    "# Define your loss function. \n",
    "# We assume targetForce and simForce are both numpy arrays\n",
    "# We also assume the force share the same strain points (simForce has been interpolated onto target strain points)\n",
    "# In our case, both targetForce and simForce are in unit N, not kN\n",
    "# The loss function should return a single scalar number\n",
    "# The smaller the number, the better the fit\n",
    "\n",
    "def lossFD(targetForce, simForce):\n",
    "    return np.sqrt(np.mean((targetForce - simForce)**2))"
   ]
  },
  {
   "cell_type": "code",
   "execution_count": null,
   "metadata": {},
   "outputs": [],
   "source": [
    "def loss_plastic(targetDisplacement, targetForce, simForce, step, epsilon=1e-8):\n",
    "    \"\"\"\n",
    "    This function calculates the loss for the plastic region of the force-displacement curve. \n",
    "    The loss is a weighted sum of the residuals loss, slope loss, and important points penalty.\n",
    "    The weights adapt as the number of steps increases.\n",
    "    \"\"\"\n",
    "\n",
    "    # Calculate residuals and corresponding loss\n",
    "    residuals = targetForce - simForce\n",
    "    residuals_loss = np.sqrt(np.mean(residuals ** 2))\n",
    "\n",
    "    # Calculate slopes and corresponding loss\n",
    "    slope_true = np.diff(targetForce) / np.diff(targetDisplacement)\n",
    "    slope_pred = np.diff(simForce) / np.diff(targetDisplacement)\n",
    "    slope_loss = np.sqrt(np.mean((slope_true - slope_pred) ** 2))\n",
    "\n",
    "    # Calculate first element penalty\n",
    "    first_true = targetForce[0]\n",
    "    first_pred = simForce[0]\n",
    "    first_penalty = abs(first_true - first_pred)\n",
    "\n",
    "    # Calculate peak penalty\n",
    "    peak_true = np.argmax(targetForce)\n",
    "    peak_pred = np.argmax(simForce)\n",
    "    peak_penalty = abs(targetForce[peak_true] - simForce[peak_pred])\n",
    "\n",
    "    # Calculate last element penalty\n",
    "    last_true = targetForce[-1]\n",
    "    last_pred = simForce[-1]\n",
    "    last_penalty = abs(last_true - last_pred)\n",
    "\n",
    "    # Calculate maximum loss values for normalization and add epsilon to prevent division by zero\n",
    "    max_residuals_loss = np.max(np.sqrt(np.mean((targetForce - targetForce.mean()) ** 2))) + epsilon\n",
    "    max_slope_loss = np.max(np.sqrt(np.mean((np.diff(targetForce) / np.diff(targetDisplacement)) ** 2))) + epsilon\n",
    "    max_first_penalty = np.max(abs(targetForce[0] - targetForce.mean())) + epsilon\n",
    "    max_peak_penalty = np.max(abs(targetForce[np.argmax(targetForce)] - targetForce.mean())) + epsilon\n",
    "    max_last_penalty = np.max(abs(targetForce[-1] - targetForce.mean())) + epsilon\n",
    "\n",
    "    # Set fixed weights for residuals and slope loss\n",
    "    w_res = 2\n",
    "    w_slope = 1\n",
    "\n",
    "    # Calculate adaptive weights for penalties\n",
    "    # These weights start low and increase with each step\n",
    "    w_first = step * 0.001\n",
    "    w_peak = step * 0.001\n",
    "    w_last = step * 0.001\n",
    "\n",
    "    # Normalized and weighted loss calculation\n",
    "    loss = (w_res * residuals_loss / max_residuals_loss +\n",
    "            w_slope * slope_loss / max_slope_loss +\n",
    "            w_first * first_penalty / max_first_penalty +\n",
    "            w_peak * peak_penalty / max_peak_penalty +\n",
    "            w_last * last_penalty / max_last_penalty)\n",
    "\n",
    "    return loss\n",
    "\n",
    "\n",
    "def lossFD(targetDisplacement, targetForce, simForce,iteration):\n",
    "    return loss_plastic(targetDisplacement, targetForce, simForce, iteration)\n",
    "    "
   ]
  },
  {
   "cell_type": "code",
   "execution_count": null,
   "metadata": {},
   "outputs": [
    {
     "ename": "NameError",
     "evalue": "name 'initial_interpolated_FD_Curves' is not defined",
     "output_type": "error",
     "traceback": [
      "\u001b[1;31m---------------------------------------------------------------------------\u001b[0m",
      "\u001b[1;31mNameError\u001b[0m                                 Traceback (most recent call last)",
      "Cell \u001b[1;32mIn[5], line 3\u001b[0m\n\u001b[0;32m      1\u001b[0m \u001b[39m# For each interpolated simulation curve, calculate the loss and plot the sim curve against target curve\u001b[39;00m\n\u001b[1;32m----> 3\u001b[0m \u001b[39mfor\u001b[39;00m i \u001b[39min\u001b[39;00m \u001b[39mrange\u001b[39m(\u001b[39mlen\u001b[39m(initial_interpolated_FD_Curves)):\n\u001b[0;32m      4\u001b[0m     interpolated_simForce \u001b[39m=\u001b[39m \u001b[39mlist\u001b[39m(initial_interpolated_FD_Curves\u001b[39m.\u001b[39mvalues())[i][\u001b[39m'\u001b[39m\u001b[39mforce\u001b[39m\u001b[39m'\u001b[39m]\n\u001b[0;32m      6\u001b[0m     \u001b[39m# Plotting the FD curve\u001b[39;00m\n",
      "\u001b[1;31mNameError\u001b[0m: name 'initial_interpolated_FD_Curves' is not defined"
     ]
    }
   ],
   "source": [
    "# For each interpolated simulation curve, calculate the loss and plot the sim curve against target curve\n",
    "\n",
    "for i in range(len(initial_interpolated_FD_Curves)):\n",
    "    interpolated_simForce = list(initial_interpolated_FD_Curves.values())[i]['force']\n",
    "\n",
    "    # Plotting the FD curve\n",
    "    figure(figsize=(8, 6), dpi=80)\n",
    "    plt.plot(targetDisplacement, targetForce, label='Experiment')\n",
    "    plt.plot(targetDisplacement, interpolated_simForce, label='Interpolated Sim')\n",
    "    plt.legend()\n",
    "    plt.show()\n",
    "    print(custom_loss_func(targetDisplacement,targetForce, interpolated_simForce))\n",
    "    print(lossFD(targetForce, interpolated_simForce))\n",
    "\n"
   ]
  }
 ],
 "metadata": {
  "kernelspec": {
   "display_name": "Python 3",
   "language": "python",
   "name": "python3"
  },
  "language_info": {
   "codemirror_mode": {
    "name": "ipython",
    "version": 3
   },
   "file_extension": ".py",
   "mimetype": "text/x-python",
   "name": "python",
   "nbconvert_exporter": "python",
   "pygments_lexer": "ipython3",
   "version": "3.11.3"
  },
  "orig_nbformat": 4
 },
 "nbformat": 4,
 "nbformat_minor": 2
}
