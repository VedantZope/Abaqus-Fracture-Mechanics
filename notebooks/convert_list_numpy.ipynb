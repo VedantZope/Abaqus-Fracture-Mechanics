{
 "cells": [
  {
   "cell_type": "code",
   "execution_count": 1,
   "metadata": {},
   "outputs": [
    {
     "name": "stdout",
     "output_type": "stream",
     "text": [
      "The current directory is: \n",
      "c:\\Users\\springnuance\\Desktop\\Abaqus-Macromechanics-Project\\notebooks\n",
      "Moving up to the parent directory\n",
      "c:\\Users\\springnuance\\Desktop\\Abaqus-Macromechanics-Project\n"
     ]
    }
   ],
   "source": [
    "import pandas as pd\n",
    "import numpy as np\n",
    "from sklearn.metrics import r2_score\n",
    "import matplotlib.pyplot as plt\n",
    "from matplotlib.pyplot import figure\n",
    "\n",
    "import os\n",
    "from math import * \n",
    "os.getcwd()\n",
    "print(\"The current directory is: \")\n",
    "print(os.getcwd())\n",
    "path_parent = os.path.dirname(os.getcwd())\n",
    "os.chdir(path_parent)\n",
    "print(\"Moving up to the parent directory\")\n",
    "print(os.getcwd())"
   ]
  },
  {
   "cell_type": "code",
   "execution_count": 15,
   "metadata": {},
   "outputs": [],
   "source": [
    "from modules.helper import *\n",
    "\n",
    "\n",
    "info = {}\n",
    "info['projectPath'] = os.getcwd()\n",
    "\n",
    "# # Task A1\n",
    "# info['targetPath'] = \"SOO_targets/DP1000_25C_Swift_NDBR50_curve2\"\n",
    "# info['resultPath'] = \"SOO_results/DP1000_25C_Swift_NDBR50_curve2\"\n",
    "\n",
    "# # Task A2\n",
    "# info['targetPath'] = \"SOO_targets/DP1000_25C_SwiftVoce_NDBR50_curve2\"\n",
    "# info['resultPath'] = \"SOO_results/DP1000_25C_SwiftVoce_NDBR50_curve2\"\n",
    "\n",
    "# Task A3\n",
    "info['targetPath'] = \"SOO_targets/DP1000_25C_SwiftVoce_NDBR50_curve1\"\n",
    "info['resultPath'] = \"SOO_results/DP1000_25C_SwiftVoce_NDBR50_curve1\"\n",
    "\n",
    "# # Task A4\n",
    "# info['targetPath'] = \"SOO_targets/DP1000_400C_SwiftVoce_NDBR50_curve1\"\n",
    "# info['resultPath'] = \"SOO_results/DP1000_400C_SwiftVoce_NDBR50_curve1\""
   ]
  },
  {
   "cell_type": "code",
   "execution_count": 16,
   "metadata": {},
   "outputs": [],
   "source": [
    "resultPath = info['resultPath']\n",
    "targetPath = info['targetPath']\n",
    "\n",
    "initial_FD_Curves = np.load(f\"{resultPath}/initial/common/FD_Curves_smooth.npy\", allow_pickle=True).tolist()\n",
    "initial_FD_Curves_unsmooth = np.load(f\"{resultPath}/initial/common/FD_Curves_unsmooth.npy\", allow_pickle=True).tolist()\n",
    "initial_flowCurves = np.load(f\"{resultPath}/initial/common/flowCurves.npy\", allow_pickle=True).tolist()\n",
    "\n",
    "# Converting to numpy\n",
    "for param in initial_FD_Curves:\n",
    "    initial_FD_Curves[param][\"force\"] = np.array(initial_FD_Curves[param][\"force\"])\n",
    "    initial_FD_Curves[param][\"displacement\"] = np.array(initial_FD_Curves[param][\"displacement\"])\n",
    "    initial_FD_Curves_unsmooth[param][\"force\"] = np.array(initial_FD_Curves_unsmooth[param][\"force\"])\n",
    "    initial_FD_Curves_unsmooth[param][\"displacement\"] = np.array(initial_FD_Curves_unsmooth[param][\"displacement\"])\n",
    "    initial_flowCurves[param][\"strain\"] = np.array(initial_flowCurves[param][\"strain\"]) \n",
    "    initial_flowCurves[param][\"stress\"] = np.array(initial_flowCurves[param][\"stress\"])\n",
    "\n",
    "np.save(f\"{resultPath}/initial/common/FD_Curves.npy\", initial_FD_Curves)\n",
    "np.save(f\"{resultPath}/initial/common/FD_Curves_unsmooth.npy\", initial_FD_Curves_unsmooth)\n",
    "np.save(f\"{resultPath}/initial/common/flowCurves.npy\", initial_flowCurves)"
   ]
  },
  {
   "cell_type": "code",
   "execution_count": null,
   "metadata": {},
   "outputs": [],
   "source": [
    "iteration_FD_Curves = np.load(f\"{resultPath}/iteration/common/FD_Curves_smooth.npy\", allow_pickle=True).tolist()\n",
    "iteration_FD_Curves_unsmooth = np.load(f\"{resultPath}/iteration/common/FD_Curves_unsmooth.npy\", allow_pickle=True).tolist()\n",
    "iteration_flowCurves = np.load(f\"{resultPath}/iteration/common/flowCurves.npy\", allow_pickle=True).tolist()\n",
    "\n",
    "# Converting to numpy\n",
    "for param in iteration_FD_Curves:\n",
    "    iteration_FD_Curves[param][\"force\"] = np.array(iteration_FD_Curves[param][\"force\"])\n",
    "    iteration_FD_Curves[param][\"displacement\"] = np.array(iteration_FD_Curves[param][\"displacement\"])\n",
    "    iteration_FD_Curves_unsmooth[param][\"force\"] = np.array(iteration_FD_Curves_unsmooth[param][\"force\"])\n",
    "    iteration_FD_Curves_unsmooth[param][\"displacement\"] = np.array(iteration_FD_Curves_unsmooth[param][\"displacement\"])\n",
    "    iteration_flowCurves[param][\"strain\"] = np.array(iteration_flowCurves[param][\"strain\"]) \n",
    "    iteration_flowCurves[param][\"stress\"] = np.array(iteration_flowCurves[param][\"stress\"])\n",
    "\n",
    "# Save\n",
    "\n",
    "np.save(f\"{resultPath}/iteration/common/FD_Curves_smooth.npy\", iteration_FD_Curves)\n",
    "np.save(f\"{resultPath}/iteration/common/FD_Curves_unsmooth.npy\", iteration_FD_Curves_unsmooth)\n",
    "np.save(f\"{resultPath}/iteration/common/flowCurves.npy\", iteration_flowCurves)"
   ]
  }
 ],
 "metadata": {
  "kernelspec": {
   "display_name": "Python 3",
   "language": "python",
   "name": "python3"
  },
  "language_info": {
   "codemirror_mode": {
    "name": "ipython",
    "version": 3
   },
   "file_extension": ".py",
   "mimetype": "text/x-python",
   "name": "python",
   "nbconvert_exporter": "python",
   "pygments_lexer": "ipython3",
   "version": "3.11.3"
  },
  "orig_nbformat": 4
 },
 "nbformat": 4,
 "nbformat_minor": 2
}
